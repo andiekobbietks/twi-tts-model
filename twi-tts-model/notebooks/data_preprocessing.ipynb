{
 "cells": [
  {
   "cell_type": "markdown",
   "metadata": {},
   "source": [
    "# Data Preprocessing for Twi TTS Model\n",
    "\n",
    "This notebook documents the data pre-processing steps necessary for creating a Twi text-to-speech (TTS) model. The steps include text normalization, diacritic restoration, and preparing the data for training."
   ]
  },
  {
   "cell_type": "code",
   "execution_count": null,
   "metadata": {
    "id": "text_preprocessing"
   },
   "outputs": [],
   "source": [
    "import os\n",
    "import pandas as pd\n",
    "from src.data_preprocessing import preprocess_text\n",
    "\n",
    "# Define paths\n",
    "raw_data_path = '../data/raw/'\n",
    "processed_data_path = '../data/processed/'\n",
    "\n",
    "# Load raw data\n",
    "raw_files = os.listdir(raw_data_path)\n",
    "raw_data = []\n",
    "for file in raw_files:\n",
    "    if file.endswith('.txt'):\n",
    "        with open(os.path.join(raw_data_path, file), 'r', encoding='utf-8') as f:\n",
    "            raw_data.append(f.read())\n",
    "\n",
    "# Preprocess text\n",
    "processed_data = [preprocess_text(text) for text in raw_data]\n",
    "\n",
    "# Save processed data\n",
    "for i, text in enumerate(processed_data):\n",
    "    with open(os.path.join(processed_data_path, f'processed_{i}.txt'), 'w', encoding='utf-8') as f:\n",
    "        f.write(text)\n",
    "\n",
    "print('Data preprocessing completed and saved to processed directory.')"
   ]
  }
 ],
 "metadata": {
  "kernelspec": {
   "display_name": "Python 3",
   "language": "python",
   "name": "python3"
  },
  "language_info": {
   "codemirror_mode": {
    "name": "ipython",
    "version": 3
   },
   "file_extension": ".py",
   "mimetype": "text/x-python",
   "name": "python",
   "nbconvert_exporter": "python",
   "pygments_lexer": "ipython3",
   "version": "3.8.5"
  }
 },
 "nbformat": 4,
 "nbformat_minor": 4
}